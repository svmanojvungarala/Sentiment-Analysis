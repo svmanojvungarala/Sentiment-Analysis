{
  "cells": [
    {
      "cell_type": "code",
      "execution_count": 1,
      "metadata": {
        "ExecuteTime": {
          "end_time": "2019-04-13T05:30:15.050297Z",
          "start_time": "2019-04-13T05:30:15.046404Z"
        },
        "colab": {
          "base_uri": "https://localhost:8080/"
        },
        "id": "Qyg8sCFMFdNp",
        "outputId": "17b621f4-d349-4d2a-97f2-8bc652d19806"
      },
      "outputs": [
        {
          "output_type": "stream",
          "name": "stderr",
          "text": [
            "[nltk_data] Downloading package stopwords to /root/nltk_data...\n",
            "[nltk_data]   Package stopwords is already up-to-date!\n"
          ]
        }
      ],
      "source": [
        "# Importing all the Required Libraries \n",
        "\n",
        "import re\n",
        "import nltk\n",
        "import gensim\n",
        "import numpy as np\n",
        "import pandas as pd\n",
        "from tqdm import tqdm\n",
        "import tensorflow as tf\n",
        "nltk.download('stopwords')\n",
        "import matplotlib.pyplot as plt\n",
        "from keras.utils import np_utils\n",
        "tqdm.pandas(desc=\"progress-bar\")\n",
        "from sklearn.manifold import TSNE\n",
        "from keras.models import Sequential\n",
        "from keras.preprocessing import sequence\n",
        "from gensim.models.word2vec import Word2Vec\n",
        "from keras.preprocessing.text import Tokenizer\n",
        "from keras.layers import Embedding, Flatten, Dense\n",
        "from sklearn.model_selection import train_test_split\n",
        "from keras.preprocessing.sequence import pad_sequences"
      ]
    },
    {
      "cell_type": "code",
      "execution_count": 2,
      "metadata": {
        "ExecuteTime": {
          "end_time": "2019-04-13T05:08:04.249440Z",
          "start_time": "2019-04-13T05:08:03.879666Z"
        },
        "id": "LA4h4TNCFdNv"
      },
      "outputs": [],
      "source": [
        "# Reading the Data into a Pandas Dataframe\n",
        "\n",
        "df = pd.read_csv('/content/cleaned_review_beauty.csv')"
      ]
    },
    {
      "cell_type": "code",
      "execution_count": 3,
      "metadata": {
        "ExecuteTime": {
          "end_time": "2019-04-13T05:08:04.318207Z",
          "start_time": "2019-04-13T05:08:04.296359Z"
        },
        "id": "A5NaDp2QFdNw"
      },
      "outputs": [],
      "source": [
        "# Data Structuring \n",
        "\n",
        "def review_map(review):\n",
        "  '''\n",
        "  Input: review\n",
        "  Output : label\n",
        "  '''\n",
        "  if review == \"good\":\n",
        "    review = 1\n",
        "  else:\n",
        "    review = 0\n",
        "  return review\n",
        "\n",
        "df['rating_class'] = df['rating_class'].apply(review_map)"
      ]
    },
    {
      "cell_type": "code",
      "source": [
        "# Getting Categorical Data and Independent variable\n",
        "X = df['clean_text']\n",
        "y = df['rating_class']"
      ],
      "metadata": {
        "id": "NG5lj6FypU4q"
      },
      "execution_count": 4,
      "outputs": []
    },
    {
      "cell_type": "code",
      "execution_count": 5,
      "metadata": {
        "colab": {
          "base_uri": "https://localhost:8080/"
        },
        "id": "WkVP6A15FdNw",
        "outputId": "382fc048-d1bb-4a76-b85e-67d7bc2db423"
      },
      "outputs": [
        {
          "output_type": "execute_result",
          "data": {
            "text/plain": [
              "0    choose one product take care face rest life wo...\n",
              "1    make skin lovely smooth woman near need help g...\n",
              "2    work well reasonable price use regenerating se...\n",
              "3    work lady try many product totally disappointe...\n",
              "Name: clean_text, dtype: object"
            ]
          },
          "metadata": {},
          "execution_count": 5
        }
      ],
      "source": [
        "df['clean_text'][:4]"
      ]
    },
    {
      "cell_type": "markdown",
      "metadata": {
        "id": "ocgEyahPFdNw"
      },
      "source": [
        "# Tokenizer"
      ]
    },
    {
      "cell_type": "code",
      "execution_count": 6,
      "metadata": {
        "colab": {
          "base_uri": "https://localhost:8080/"
        },
        "id": "nhBOAhMXFdNx",
        "outputId": "970425d7-4134-4c1d-bf41-fbf37071f070"
      },
      "outputs": [
        {
          "output_type": "stream",
          "name": "stdout",
          "text": [
            "Unique Tokens:\n",
            "27315\n"
          ]
        }
      ],
      "source": [
        "samples = X\n",
        "\n",
        "# Creating Object for Tokenizer\n",
        "tokenizer = Tokenizer(lower=True, split=' ') \n",
        "tokenizer.fit_on_texts(samples) \n",
        "sequences = tokenizer.texts_to_sequences(samples)\n",
        "\n",
        "# Getting word_index dictionary\n",
        "word_index = tokenizer.word_index \n",
        "print(f'Unique Tokens:\\n{len(word_index)}')"
      ]
    },
    {
      "cell_type": "code",
      "execution_count": 7,
      "metadata": {
        "colab": {
          "base_uri": "https://localhost:8080/",
          "height": 91
        },
        "id": "cV-WIux9FdN0",
        "outputId": "6bdb9632-3601-4b81-be43-58d4b9985000"
      },
      "outputs": [
        {
          "output_type": "execute_result",
          "data": {
            "text/plain": [
              "'true make not thick difference try glove choice get notice volcanic notice version hair moisturize african hair arrive positive wash good love ? product notice suggest tousle notice thing something control clear may evenly butter ? hair sometimes shower even ? honest go smell shave sculpt except day no every could type notice dove greasy idea hair good one break ? like review x daily heat hair ? notice bebelush intense needling reason make highly blackhead ? product make make mascara stuff strap product super dark treatment not say quit lie work african long true make try without glove choice get direct'"
            ],
            "application/vnd.google.colaboratory.intrinsic+json": {
              "type": "string"
            }
          },
          "metadata": {},
          "execution_count": 7
        }
      ],
      "source": [
        "reverse_word_index = dict()\n",
        "for key, value in word_index.items():\n",
        "  reverse_word_index[value] = key\n",
        "\n",
        "# Dictonary comprehension \n",
        "reverse_word_index = dict([(value, key) for (key, value) in word_index.items()])\n",
        "\n",
        "# We decode the review; note that our indices were offset by 3\n",
        "# because 0, 1 and 2 are reserved indices for \"padding\", \"start of sequence\", and \"unknown\".\n",
        "\n",
        "decoded_review_list = []\n",
        "for index in sequences[0]:\n",
        "  # dictionary.get(key, value)\n",
        "  val = reverse_word_index.get(index-3, '?') # If key does not exist, value (?) is returned\n",
        "  decoded_review_list.append(val)\n",
        "\n",
        "decoded_review = ' '.join(decoded_review_list)\n",
        "decoded_review"
      ]
    },
    {
      "cell_type": "code",
      "execution_count": 8,
      "metadata": {
        "id": "4weBeR1KFdN1"
      },
      "outputs": [],
      "source": [
        "def sequence_to_text(sequence):\n",
        "    words_list =  []\n",
        "    for letter in sequence:\n",
        "      words_list.append(reverse_word_index.get(letter))\n",
        "    return words_list\n",
        "\n",
        "my_text = list(map(sequence_to_text, sequences))"
      ]
    },
    {
      "cell_type": "markdown",
      "metadata": {
        "id": "VrVCezr4FdN1"
      },
      "source": [
        "# Word2Vec and Simple Neural Network"
      ]
    },
    {
      "cell_type": "code",
      "execution_count": 9,
      "metadata": {
        "colab": {
          "base_uri": "https://localhost:8080/"
        },
        "id": "oJ17Xy-NFdN1",
        "outputId": "e9c2f526-ad22-459c-f6c8-5e472f8d06cc"
      },
      "outputs": [
        {
          "output_type": "stream",
          "name": "stderr",
          "text": [
            "WARNING:gensim.models.base_any2vec:Effective 'alpha' higher than previous training cycles\n",
            "WARNING:gensim.models.base_any2vec:EPOCH - 1 : supplied example count (28576) did not equal expected count (25026)\n",
            "WARNING:gensim.models.base_any2vec:EPOCH - 2 : supplied example count (28576) did not equal expected count (25026)\n",
            "WARNING:gensim.models.base_any2vec:EPOCH - 3 : supplied example count (28576) did not equal expected count (25026)\n",
            "WARNING:gensim.models.base_any2vec:EPOCH - 4 : supplied example count (28576) did not equal expected count (25026)\n",
            "WARNING:gensim.models.base_any2vec:EPOCH - 5 : supplied example count (28576) did not equal expected count (25026)\n",
            "WARNING:gensim.models.base_any2vec:EPOCH - 6 : supplied example count (28576) did not equal expected count (25026)\n",
            "WARNING:gensim.models.base_any2vec:EPOCH - 7 : supplied example count (28576) did not equal expected count (25026)\n",
            "WARNING:gensim.models.base_any2vec:EPOCH - 8 : supplied example count (28576) did not equal expected count (25026)\n",
            "WARNING:gensim.models.base_any2vec:EPOCH - 9 : supplied example count (28576) did not equal expected count (25026)\n",
            "WARNING:gensim.models.base_any2vec:EPOCH - 10 : supplied example count (28576) did not equal expected count (25026)\n"
          ]
        },
        {
          "output_type": "execute_result",
          "data": {
            "text/plain": [
              "(16831162, 20239020)"
            ]
          },
          "metadata": {},
          "execution_count": 9
        }
      ],
      "source": [
        "word2vec = gensim.models.Word2Vec(my_text,\n",
        "                                  size=100,\n",
        "                                  window=10,\n",
        "                                  min_count=1)\n",
        "word2vec.train(my_text, total_examples=25026, epochs=10)"
      ]
    },
    {
      "cell_type": "code",
      "execution_count": 10,
      "metadata": {
        "colab": {
          "base_uri": "https://localhost:8080/"
        },
        "id": "ZMbbVxv7FdN2",
        "outputId": "3d641d52-a43b-4056-88b4-530b380b4d20"
      },
      "outputs": [
        {
          "output_type": "execute_result",
          "data": {
            "text/plain": [
              "{'bad': ['terrible', 'awful', 'horrible', 'either', 'good'],\n",
              " 'beauty': ['haircare', 'skincare', 'obsess', 'junkie', 'diy'],\n",
              " 'cheap': ['drugstore', 'expensive', 'pricy', 'walmart', 'store'],\n",
              " 'feel': ['feeling', 'afterwards', 'film', 'leave', 'afterward'],\n",
              " 'fragrance': ['scent', 'aroma', 'odor', 'smell', 'perfume'],\n",
              " 'good': ['great', 'decent', 'ok', 'okay', 'nice'],\n",
              " 'product': ['products', 'brand', 'renovated', 'adovia', 'however'],\n",
              " 'skin': ['face', 'complexion', 'breakout', 'facial', 'redness']}"
            ]
          },
          "metadata": {},
          "execution_count": 10
        }
      ],
      "source": [
        "# Creating dictionary of synonms \n",
        "\n",
        "catch_words = ['feel', 'good', 'product', 'cheap', 'beauty', 'bad', 'skin', 'fragrance']\n",
        "similar_word_dict = dict()\n",
        "for word in catch_words:\n",
        "  synonm_list =[]\n",
        "  for item in word2vec.wv.most_similar([word], topn=5):\n",
        "    synonm_list.append(item[0])\n",
        "  similar_word_dict[word] = synonm_list\n",
        "similar_word_dict"
      ]
    },
    {
      "cell_type": "code",
      "execution_count": 11,
      "metadata": {
        "colab": {
          "base_uri": "https://localhost:8080/"
        },
        "id": "kL8g8YXjFdN2",
        "outputId": "8b5c79f3-a5db-48ec-a16e-470cfbdb88bc"
      },
      "outputs": [
        {
          "output_type": "stream",
          "name": "stderr",
          "text": [
            "/usr/local/lib/python3.7/dist-packages/sklearn/manifold/_t_sne.py:783: FutureWarning: The default initialization in TSNE will change from 'random' to 'pca' in 1.2.\n",
            "  FutureWarning,\n",
            "/usr/local/lib/python3.7/dist-packages/sklearn/manifold/_t_sne.py:793: FutureWarning: The default learning rate in TSNE will change from 200.0 to 'auto' in 1.2.\n",
            "  FutureWarning,\n"
          ]
        }
      ],
      "source": [
        "words_list = []\n",
        "for key, value in similar_word_dict.items():\n",
        "  iter_list = []\n",
        "  summ = [key] + value\n",
        "  words_list = words_list + summ\n",
        "\n",
        "\n",
        "wvs = word2vec.wv[words_list]\n",
        "\n",
        "# Create Object for TSNE class \n",
        "tsne = TSNE(n_components=2, random_state=0, n_iter=10000, perplexity=2)\n",
        "np.set_printoptions(suppress=True)\n",
        "\n",
        "T = tsne.fit_transform(wvs)"
      ]
    },
    {
      "cell_type": "code",
      "source": [
        "# Plotting TSNE graphs \n",
        "\n",
        "labels = words_list\n",
        "plt.figure(figsize=(14, 8))\n",
        "X_coord = T[:, 0]\n",
        "y_coord = T[:, 1]\n",
        "color = 'black'\n",
        "plt.scatter(X_coord, y_coord, c=color)\n",
        "\n",
        "for label, x, yt in zip(labels, X_coord, y_coord):\n",
        "    plt.annotate(label, xy=(x+1, yt+1), xytext=(0, 0), textcoords='offset points')"
      ],
      "metadata": {
        "colab": {
          "base_uri": "https://localhost:8080/",
          "height": 483
        },
        "id": "0GrLvhysRyiA",
        "outputId": "7ea615f4-a57b-45e9-e8ee-cad7a6cc6af1"
      },
      "execution_count": 12,
      "outputs": [
        {
          "output_type": "display_data",
          "data": {
            "text/plain": [
              "<Figure size 1008x576 with 1 Axes>"
            ],
            "image/png": "[encoded data removed]"
          },
          "metadata": {
            "needs_background": "light"
          }
        }
      ]
    },
    {
      "cell_type": "markdown",
      "metadata": {
        "id": "iD8muFVWFdN2"
      },
      "source": [
        "We generated word vectors for words using Word2Vec. <br>\n",
        "The model has 25026 unique words with vectors of length 100.<br>\n",
        "<br>\n",
        "Now, we will feed this generated dense vectors (word embeddings) to a simple neural network to predict values. "
      ]
    },
    {
      "cell_type": "code",
      "execution_count": 13,
      "metadata": {
        "id": "Nt_nWykbFdN3"
      },
      "outputs": [],
      "source": [
        "max_review_len = 200 \n",
        "max_words = len(word_index.keys()) \n",
        "\n",
        "len_train_set = 15000\n",
        "len_val_set = 9509\n",
        "data = pad_sequences(sequences, maxlen=max_review_len)\n",
        "\n",
        "# Shuffling data beacause it is ordered and splitting into train and validation sets\n",
        "indices = np.arange(data.shape[0])\n",
        "np.random.shuffle(indices)\n",
        "\n",
        "categorical_data = data[indices]\n",
        "independent_var = y[indices]\n",
        "\n",
        "# Splitting the Dataset into Train and Val sets \n",
        "X_train = categorical_data[:len_train_set]\n",
        "X_val = categorical_data[len_train_set: len_train_set + len_val_set]\n",
        "\n",
        "y_train = y[:len_train_set]\n",
        "y_val = y[len_train_set: len_train_set + len_val_set]"
      ]
    },
    {
      "cell_type": "code",
      "source": [
        "print('Shape of data tensor:', data.shape)\n",
        "print('Shape of label tensor:', y.shape)\n",
        "print('Shape of training data: ', X_train.shape)\n",
        "print('Shape of validation data: ', X_val.shape)"
      ],
      "metadata": {
        "colab": {
          "base_uri": "https://localhost:8080/"
        },
        "id": "cLzFDN6Mrd9F",
        "outputId": "6c8b93b3-1bc8-4985-d2d7-fd90b6807c8a"
      },
      "execution_count": 14,
      "outputs": [
        {
          "output_type": "stream",
          "name": "stdout",
          "text": [
            "Shape of data tensor: (28576, 200)\n",
            "Shape of label tensor: (28576,)\n",
            "Shape of training data:  (15000, 200)\n",
            "Shape of validation data:  (9509, 200)\n"
          ]
        }
      ]
    },
    {
      "cell_type": "code",
      "execution_count": 15,
      "metadata": {
        "id": "MGANZoFfFdN3"
      },
      "outputs": [],
      "source": [
        "embedding_dim = 100\n",
        "\n",
        "# Matrix initialization\n",
        "embedding_matrix = np.zeros((max_words+1, embedding_dim))\n",
        "for word , index in word_index.items():\n",
        "    embedding_vector = word2vec.wv[word]\n",
        "    if embedding_vector is not None:\n",
        "        embedding_matrix[index] = embedding_vector"
      ]
    },
    {
      "cell_type": "markdown",
      "metadata": {
        "id": "RZGQyJPnFdN3"
      },
      "source": [
        "The Embedding layer is best understood as a dictionary mapping integer indices (which represent specific word) to dense vectors. It looks up these input integers into an internal dictionary, and it returns the associated vectors. It's effectively a dictionary lookup.\n",
        "<br>\n",
        "<br>\n",
        "\n",
        "The Embedding layer takes input as a 2D tensor of integers, of shape (samples, sequence_length), where each entry is a sequence of integers. It can embed sequences of variable lengths, so for instance we could feed into our embedding layer above batches that could have shapes (32, 10) (batch of 32 sequences of length 10) or (64, 15) (batch of 64 sequences of length 15). All sequences in a batch must have the same length, though (since we need to pack them into a single tensor), so sequences that are shorter than others should be padded with zeros, and sequences that are longer should be truncated.\n",
        "<br>\n",
        "<br>\n",
        "\n",
        "This layer returns a 3D floating point tensor, of shape (samples, sequence_length, embedding_dimensionality). Such a 3D tensor can then be processed by a RNN layer or a 1D convolution layer\n",
        "<br>\n",
        "<br>\n",
        "\n",
        "When you instantiate an Embedding layer, its weights (its internal dictionary of token vectors) are initially random, just like with any other layer. During training, these word vectors will be gradually adjusted through a technique called backpropagation, structuring the space into something that the downstream model can exploit. Once fully trained, your embedding space will show a lot of structure -- a kind of structure specialized for the specific problem you were training your model for."
      ]
    },
    {
      "cell_type": "code",
      "execution_count": 16,
      "metadata": {
        "colab": {
          "base_uri": "https://localhost:8080/"
        },
        "id": "gtxEuQ25FdN4",
        "outputId": "fd880c3a-2ba6-496a-f896-0e62e64932e9"
      },
      "outputs": [
        {
          "output_type": "execute_result",
          "data": {
            "text/plain": [
              "(27316, 100)"
            ]
          },
          "metadata": {},
          "execution_count": 16
        }
      ],
      "source": [
        "embedding_matrix.shape"
      ]
    },
    {
      "cell_type": "code",
      "execution_count": 17,
      "metadata": {
        "colab": {
          "base_uri": "https://localhost:8080/"
        },
        "id": "NETQkjwvFdN4",
        "outputId": "161837e5-fcb4-4e1d-de23-57a293aaf754"
      },
      "outputs": [
        {
          "output_type": "stream",
          "name": "stdout",
          "text": [
            "Model: \"sequential\"\n",
            "_________________________________________________________________\n",
            " Layer (type)                Output Shape              Param #   \n",
            "=================================================================\n",
            " embedding (Embedding)       (None, 200, 100)          2731600   \n",
            "                                                                 \n",
            " flatten (Flatten)           (None, 20000)             0         \n",
            "                                                                 \n",
            " dense (Dense)               (None, 32)                640032    \n",
            "                                                                 \n",
            " dense_1 (Dense)             (None, 1)                 33        \n",
            "                                                                 \n",
            "=================================================================\n",
            "Total params: 3,371,665\n",
            "Trainable params: 3,371,665\n",
            "Non-trainable params: 0\n",
            "_________________________________________________________________\n"
          ]
        }
      ],
      "source": [
        "# Model Architecture\n",
        "model = Sequential()\n",
        "model.add(Embedding(max_words+1, embedding_dim, input_length=max_review_len))\n",
        "model.add(Flatten())\n",
        "model.add(Dense(32, activation='relu'))\n",
        "model.add(Dense(1, activation='sigmoid'))\n",
        "model.summary()"
      ]
    },
    {
      "cell_type": "code",
      "execution_count": 18,
      "metadata": {
        "id": "Xjo-Xm7mFdN4"
      },
      "outputs": [],
      "source": [
        "model.layers[0].set_weights([embedding_matrix])\n",
        "model.layers[0].trainable = False"
      ]
    },
    {
      "cell_type": "code",
      "execution_count": 19,
      "metadata": {
        "colab": {
          "base_uri": "https://localhost:8080/"
        },
        "id": "PqPUXrAMFdN4",
        "outputId": "760de6f3-6a55-44fe-fa35-289bd316e69d"
      },
      "outputs": [
        {
          "output_type": "stream",
          "name": "stdout",
          "text": [
            "Epoch 1/12\n",
            "469/469 [==============================] - 9s 18ms/step - loss: 0.5910 - acc: 0.7580 - val_loss: 0.5605 - val_acc: 0.7757\n",
            "Epoch 2/12\n",
            "469/469 [==============================] - 7s 14ms/step - loss: 0.4537 - acc: 0.7825 - val_loss: 0.6329 - val_acc: 0.7462\n",
            "Epoch 3/12\n",
            "469/469 [==============================] - 7s 15ms/step - loss: 0.3054 - acc: 0.8593 - val_loss: 0.7951 - val_acc: 0.6994\n",
            "Epoch 4/12\n",
            "469/469 [==============================] - 6s 14ms/step - loss: 0.1712 - acc: 0.9268 - val_loss: 1.1228 - val_acc: 0.6873\n",
            "Epoch 5/12\n",
            "469/469 [==============================] - 7s 14ms/step - loss: 0.0831 - acc: 0.9688 - val_loss: 1.6218 - val_acc: 0.6703\n",
            "Epoch 6/12\n",
            "469/469 [==============================] - 7s 15ms/step - loss: 0.0410 - acc: 0.9875 - val_loss: 2.0740 - val_acc: 0.6700\n",
            "Epoch 7/12\n",
            "469/469 [==============================] - 7s 15ms/step - loss: 0.0191 - acc: 0.9953 - val_loss: 2.6240 - val_acc: 0.6756\n",
            "Epoch 8/12\n",
            "469/469 [==============================] - 7s 16ms/step - loss: 0.0088 - acc: 0.9978 - val_loss: 2.9861 - val_acc: 0.6569\n",
            "Epoch 9/12\n",
            "469/469 [==============================] - 6s 13ms/step - loss: 0.0082 - acc: 0.9981 - val_loss: 3.3300 - val_acc: 0.6608\n",
            "Epoch 10/12\n",
            "469/469 [==============================] - 6s 14ms/step - loss: 0.0089 - acc: 0.9987 - val_loss: 3.8673 - val_acc: 0.6867\n",
            "Epoch 11/12\n",
            "469/469 [==============================] - 7s 15ms/step - loss: 0.0091 - acc: 0.9991 - val_loss: 4.0309 - val_acc: 0.6676\n",
            "Epoch 12/12\n",
            "469/469 [==============================] - 7s 14ms/step - loss: 0.0055 - acc: 0.9992 - val_loss: 4.2662 - val_acc: 0.6539\n"
          ]
        }
      ],
      "source": [
        "optimizer = 'rmsprop'\n",
        "loss = 'binary_crossentropy'\n",
        "\n",
        "model.compile(optimizer= optimizer,\n",
        "              loss= loss,\n",
        "              metrics=['acc'])\n",
        "\n",
        "# Getting model training history\n",
        "hyper_param = {'epochs': 12, 'batch_size': 32}\n",
        "history = model.fit(X_train, y_train,\n",
        "                    epochs= hyper_param['epochs'],\n",
        "                    batch_size= hyper_param['batch_size'],\n",
        "                    validation_data=(X_val, y_val))"
      ]
    },
    {
      "cell_type": "code",
      "execution_count": 22,
      "metadata": {
        "id": "SDRh4u1mFdN4"
      },
      "outputs": [],
      "source": [
        "# Getting metrics from model training history\n",
        "# Accuracy\n",
        "acc = history.history['acc']\n",
        "val_acc = history.history['val_acc']\n",
        "\n",
        "# Loss\n",
        "loss = history.history['loss']\n",
        "val_loss = history.history['val_loss']\n",
        "\n",
        "epochs = range(1, len(acc) + 1)"
      ]
    },
    {
      "cell_type": "code",
      "source": [
        "# Plotting \n",
        "# Train accuracy vs Validation accuracy\n",
        "plt.figure(figsize=(13,10))\n",
        "plt.plot(epochs, acc, color= \"darkorange\", linestyle= \"solid\", marker= \"o\", label='Training acc')\n",
        "plt.plot(epochs, val_acc, color= 'green', marker= 'o', label='Validation acc')\n",
        "plt.title('Training vs validation accuracy')\n",
        "plt.xlabel('epochs')\n",
        "plt.ylabel('accuracy')\n",
        "plt.legend()\n",
        "\n",
        "# Create a New figure\n",
        "plt.figure(figsize=(13, 10))\n",
        "\n",
        "# Train loss vs validation loss\n",
        "plt.plot(epochs, loss, color= \"purple\", marker= \"o\", label='Training loss')\n",
        "plt.plot(epochs, val_loss, color=\"red\", marker= \"o\", label='Validation loss')\n",
        "plt.title('Training vs validation loss')\n",
        "plt.xlabel('epochs')\n",
        "plt.ylabel('loss')\n",
        "plt.legend()\n",
        "\n",
        "plt.show()"
      ],
      "metadata": {
        "colab": {
          "base_uri": "https://localhost:8080/",
          "height": 1000
        },
        "id": "zO3Wmtakv_tI",
        "outputId": "46ec4093-9987-4e7d-c4b1-316209dc61c7"
      },
      "execution_count": 23,
      "outputs": [
        {
          "output_type": "display_data",
          "data": {
            "text/plain": [
              "<Figure size 936x720 with 1 Axes>"
            ],
            "image/png": "[encoded data removed]"
          },
          "metadata": {
            "needs_background": "light"
          }
        },
        {
          "output_type": "display_data",
          "data": {
            "text/plain": [
              "<Figure size 936x720 with 1 Axes>"
            ],
            "image/png": "[encoded data removed]"
          },
          "metadata": {
            "needs_background": "light"
          }
        }
      ]
    },
    {
      "cell_type": "markdown",
      "source": [
        "Given small number of Training set, Variance is high and model starts to quickly overfit."
      ],
      "metadata": {
        "id": "gHJbqtB2958w"
      }
    },
    {
      "cell_type": "code",
      "source": [
        ""
      ],
      "metadata": {
        "id": "PXkaWk9PzBLx"
      },
      "execution_count": null,
      "outputs": []
    }
  ],
  "metadata": {
    "kernelspec": {
      "display_name": "Python 3",
      "language": "python",
      "name": "python3"
    },
    "language_info": {
      "codemirror_mode": {
        "name": "ipython",
        "version": 3
      },
      "file_extension": ".py",
      "mimetype": "text/x-python",
      "name": "python",
      "nbconvert_exporter": "python",
      "pygments_lexer": "ipython3",
      "version": "3.7.1"
    },
    "toc": {
      "base_numbering": 1,
      "nav_menu": {},
      "number_sections": true,
      "sideBar": true,
      "skip_h1_title": false,
      "title_cell": "Table of Contents",
      "title_sidebar": "Contents",
      "toc_cell": false,
      "toc_position": {},
      "toc_section_display": true,
      "toc_window_display": false
    },
    "colab": {
      "name": "Sentiment_Analysis-3_Word2Vec-Keras.ipynb",
      "provenance": []
    }
  },
  "nbformat": 4,
  "nbformat_minor": 0
}